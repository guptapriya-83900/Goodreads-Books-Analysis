{
  "cells": [
    {
      "cell_type": "markdown",
      "metadata": {
        "papermill": {
          "duration": 0.025461,
          "end_time": "2021-01-24T19:16:20.964913",
          "exception": false,
          "start_time": "2021-01-24T19:16:20.939452",
          "status": "completed"
        },
        "tags": [],
        "id": "kUTPDmm_4rmo"
      },
      "source": [
        "# BOOK RECOMMENDER SYSTEM"
      ]
    },
    {
      "cell_type": "markdown",
      "metadata": {
        "papermill": {
          "duration": 0.024186,
          "end_time": "2021-01-24T19:16:21.013517",
          "exception": false,
          "start_time": "2021-01-24T19:16:20.989331",
          "status": "completed"
        },
        "tags": [],
        "id": "lvnSmeXK4rmt"
      },
      "source": [
        "### A simple content based Book recommender system based on author names and genres."
      ]
    },
    {
      "cell_type": "markdown",
      "metadata": {
        "papermill": {
          "duration": 0.024041,
          "end_time": "2021-01-24T19:16:21.061891",
          "exception": false,
          "start_time": "2021-01-24T19:16:21.037850",
          "status": "completed"
        },
        "tags": [],
        "id": "KT2eEaNY4rmu"
      },
      "source": [
        "![](https://www.penguin.co.uk/content/dam/prh/articles/adults/2020/december/John-le-carre-where-to-start.jpg)"
      ]
    },
    {
      "cell_type": "markdown",
      "metadata": {
        "papermill": {
          "duration": 0.024513,
          "end_time": "2021-01-24T19:16:21.110874",
          "exception": false,
          "start_time": "2021-01-24T19:16:21.086361",
          "status": "completed"
        },
        "tags": [],
        "id": "ym5kJaNe4rmv"
      },
      "source": [
        "__________________________________________________"
      ]
    },
    {
      "cell_type": "markdown",
      "metadata": {
        "papermill": {
          "duration": 0.024118,
          "end_time": "2021-01-24T19:16:21.159543",
          "exception": false,
          "start_time": "2021-01-24T19:16:21.135425",
          "status": "completed"
        },
        "tags": [],
        "id": "dCjZqhY74rmv"
      },
      "source": [
        "## Import Necessary Libraries"
      ]
    },
    {
      "cell_type": "code",
      "execution_count": 1,
      "metadata": {
        "execution": {
          "iopub.execute_input": "2021-01-24T19:16:21.214855Z",
          "iopub.status.busy": "2021-01-24T19:16:21.214026Z",
          "iopub.status.idle": "2021-01-24T19:16:22.308554Z",
          "shell.execute_reply": "2021-01-24T19:16:22.309064Z"
        },
        "papermill": {
          "duration": 1.124956,
          "end_time": "2021-01-24T19:16:22.309246",
          "exception": false,
          "start_time": "2021-01-24T19:16:21.184290",
          "status": "completed"
        },
        "tags": [],
        "id": "m2_vFjcs4rmw"
      },
      "outputs": [],
      "source": [
        "import pandas as pd\n",
        "import numpy as np\n",
        "from sklearn.feature_extraction.text import TfidfVectorizer\n",
        "from sklearn.metrics.pairwise import linear_kernel,sigmoid_kernel"
      ]
    },
    {
      "cell_type": "code",
      "execution_count": null,
      "metadata": {
        "execution": {
          "iopub.execute_input": "2021-01-24T19:16:22.368690Z",
          "iopub.status.busy": "2021-01-24T19:16:22.368021Z",
          "iopub.status.idle": "2021-01-24T19:16:24.169923Z",
          "shell.execute_reply": "2021-01-24T19:16:24.169151Z"
        },
        "papermill": {
          "duration": 1.832376,
          "end_time": "2021-01-24T19:16:24.170040",
          "exception": false,
          "start_time": "2021-01-24T19:16:22.337664",
          "status": "completed"
        },
        "tags": [],
        "id": "2L6w_AWr4rmx"
      },
      "outputs": [],
      "source": [
        "red=pd.read_csv('best-books-ever_data.csv')"
      ]
    },
    {
      "cell_type": "code",
      "execution_count": null,
      "metadata": {
        "execution": {
          "iopub.execute_input": "2021-01-24T19:16:24.250022Z",
          "iopub.status.busy": "2021-01-24T19:16:24.249306Z",
          "iopub.status.idle": "2021-01-24T19:16:24.266259Z",
          "shell.execute_reply": "2021-01-24T19:16:24.265618Z"
        },
        "papermill": {
          "duration": 0.071175,
          "end_time": "2021-01-24T19:16:24.266374",
          "exception": false,
          "start_time": "2021-01-24T19:16:24.195199",
          "status": "completed"
        },
        "tags": [],
        "id": "mxh7W86w4rmy",
        "outputId": "654750bd-79b2-45c7-a89f-6492cd8f042e"
      },
      "outputs": [
        {
          "data": {
            "text/html": [
              "<div>\n",
              "<style scoped>\n",
              "    .dataframe tbody tr th:only-of-type {\n",
              "        vertical-align: middle;\n",
              "    }\n",
              "\n",
              "    .dataframe tbody tr th {\n",
              "        vertical-align: top;\n",
              "    }\n",
              "\n",
              "    .dataframe thead th {\n",
              "        text-align: right;\n",
              "    }\n",
              "</style>\n",
              "<table border=\"1\" class=\"dataframe\">\n",
              "  <thead>\n",
              "    <tr style=\"text-align: right;\">\n",
              "      <th></th>\n",
              "      <th>book_authors</th>\n",
              "      <th>book_desc</th>\n",
              "      <th>book_edition</th>\n",
              "      <th>book_format</th>\n",
              "      <th>book_isbn</th>\n",
              "      <th>book_pages</th>\n",
              "      <th>book_rating</th>\n",
              "      <th>book_rating_count</th>\n",
              "      <th>book_review_count</th>\n",
              "      <th>book_title</th>\n",
              "      <th>genres</th>\n",
              "      <th>image_url</th>\n",
              "    </tr>\n",
              "  </thead>\n",
              "  <tbody>\n",
              "    <tr>\n",
              "      <th>0</th>\n",
              "      <td>Suzanne Collins</td>\n",
              "      <td>Winning will make you famous. Losing means cer...</td>\n",
              "      <td>NaN</td>\n",
              "      <td>Hardcover</td>\n",
              "      <td>9.78044E+12</td>\n",
              "      <td>374 pages</td>\n",
              "      <td>4.33</td>\n",
              "      <td>5519135</td>\n",
              "      <td>160706</td>\n",
              "      <td>The Hunger Games</td>\n",
              "      <td>Young Adult|Fiction|Science Fiction|Dystopia|F...</td>\n",
              "      <td>https://images.gr-assets.com/books/1447303603l...</td>\n",
              "    </tr>\n",
              "    <tr>\n",
              "      <th>1</th>\n",
              "      <td>J.K. Rowling|Mary GrandPré</td>\n",
              "      <td>There is a door at the end of a silent corrido...</td>\n",
              "      <td>US Edition</td>\n",
              "      <td>Paperback</td>\n",
              "      <td>9.78044E+12</td>\n",
              "      <td>870 pages</td>\n",
              "      <td>4.48</td>\n",
              "      <td>2041594</td>\n",
              "      <td>33264</td>\n",
              "      <td>Harry Potter and the Order of the Phoenix</td>\n",
              "      <td>Fantasy|Young Adult|Fiction</td>\n",
              "      <td>https://images.gr-assets.com/books/1255614970l...</td>\n",
              "    </tr>\n",
              "    <tr>\n",
              "      <th>2</th>\n",
              "      <td>Harper Lee</td>\n",
              "      <td>The unforgettable novel of a childhood in a sl...</td>\n",
              "      <td>50th Anniversary</td>\n",
              "      <td>Paperback</td>\n",
              "      <td>9.78006E+12</td>\n",
              "      <td>324 pages</td>\n",
              "      <td>4.27</td>\n",
              "      <td>3745197</td>\n",
              "      <td>79450</td>\n",
              "      <td>To Kill a Mockingbird</td>\n",
              "      <td>Classics|Fiction|Historical|Historical Fiction...</td>\n",
              "      <td>https://images.gr-assets.com/books/1361975680l...</td>\n",
              "    </tr>\n",
              "    <tr>\n",
              "      <th>3</th>\n",
              "      <td>Jane Austen|Anna Quindlen|Mrs. Oliphant|George...</td>\n",
              "      <td>«È cosa ormai risaputa che a uno scapolo in po...</td>\n",
              "      <td>Modern Library Classics, USA / CAN</td>\n",
              "      <td>Paperback</td>\n",
              "      <td>9.78068E+12</td>\n",
              "      <td>279 pages</td>\n",
              "      <td>4.25</td>\n",
              "      <td>2453620</td>\n",
              "      <td>54322</td>\n",
              "      <td>Pride and Prejudice</td>\n",
              "      <td>Classics|Fiction|Romance</td>\n",
              "      <td>https://images.gr-assets.com/books/1320399351l...</td>\n",
              "    </tr>\n",
              "    <tr>\n",
              "      <th>4</th>\n",
              "      <td>Stephenie Meyer</td>\n",
              "      <td>About three things I was absolutely positive.F...</td>\n",
              "      <td>NaN</td>\n",
              "      <td>Paperback</td>\n",
              "      <td>9.78032E+12</td>\n",
              "      <td>498 pages</td>\n",
              "      <td>3.58</td>\n",
              "      <td>4281268</td>\n",
              "      <td>97991</td>\n",
              "      <td>Twilight</td>\n",
              "      <td>Young Adult|Fantasy|Romance|Paranormal|Vampire...</td>\n",
              "      <td>https://images.gr-assets.com/books/1361039443l...</td>\n",
              "    </tr>\n",
              "    <tr>\n",
              "      <th>...</th>\n",
              "      <td>...</td>\n",
              "      <td>...</td>\n",
              "      <td>...</td>\n",
              "      <td>...</td>\n",
              "      <td>...</td>\n",
              "      <td>...</td>\n",
              "      <td>...</td>\n",
              "      <td>...</td>\n",
              "      <td>...</td>\n",
              "      <td>...</td>\n",
              "      <td>...</td>\n",
              "      <td>...</td>\n",
              "    </tr>\n",
              "    <tr>\n",
              "      <th>54296</th>\n",
              "      <td>Howard Megdal</td>\n",
              "      <td>In this fearless and half-crazy story, Howard ...</td>\n",
              "      <td>NaN</td>\n",
              "      <td>Hardcover</td>\n",
              "      <td>9.78161E+12</td>\n",
              "      <td>256 pages</td>\n",
              "      <td>3.37</td>\n",
              "      <td>27</td>\n",
              "      <td>9</td>\n",
              "      <td>Taking the Field: A Fan's Quest to Run the Tea...</td>\n",
              "      <td>Sports|Baseball|Sports and Games|Sports|Nonfic...</td>\n",
              "      <td>https://images.gr-assets.com/books/1312074392l...</td>\n",
              "    </tr>\n",
              "    <tr>\n",
              "      <th>54297</th>\n",
              "      <td>Howard Megdal</td>\n",
              "      <td>From the icons of the game to the players who ...</td>\n",
              "      <td>NaN</td>\n",
              "      <td>Hardcover</td>\n",
              "      <td>9.78006E+12</td>\n",
              "      <td>256 pages</td>\n",
              "      <td>3.97</td>\n",
              "      <td>34</td>\n",
              "      <td>5</td>\n",
              "      <td>The Baseball Talmud: Koufax, Greenberg, and th...</td>\n",
              "      <td>Nonfiction|Sports and Games|Sports</td>\n",
              "      <td>https://images.gr-assets.com/books/1348841629l...</td>\n",
              "    </tr>\n",
              "    <tr>\n",
              "      <th>54298</th>\n",
              "      <td>Howard Megdal</td>\n",
              "      <td>NaN</td>\n",
              "      <td>NaN</td>\n",
              "      <td>Kindle Edition</td>\n",
              "      <td>NaN</td>\n",
              "      <td>NaN</td>\n",
              "      <td>3.66</td>\n",
              "      <td>32</td>\n",
              "      <td>3</td>\n",
              "      <td>Wilpon's Folly - The Story of a Man, His Fortu...</td>\n",
              "      <td>Sports|Baseball|Abandoned</td>\n",
              "      <td>https://images.gr-assets.com/books/1394277097l...</td>\n",
              "    </tr>\n",
              "    <tr>\n",
              "      <th>54299</th>\n",
              "      <td>Mimi Baird|Eve Claxton</td>\n",
              "      <td>Soon to be a major motion picture, from Brad P...</td>\n",
              "      <td>NaN</td>\n",
              "      <td>Hardcover</td>\n",
              "      <td>9.7808E+12</td>\n",
              "      <td>272 pages</td>\n",
              "      <td>3.82</td>\n",
              "      <td>867</td>\n",
              "      <td>187</td>\n",
              "      <td>He Wanted the Moon: The Madness and Medical Ge...</td>\n",
              "      <td>Nonfiction|Autobiography|Memoir|Biography|Psyc...</td>\n",
              "      <td>https://images.gr-assets.com/books/1403192135l...</td>\n",
              "    </tr>\n",
              "    <tr>\n",
              "      <th>54300</th>\n",
              "      <td>Leah Price</td>\n",
              "      <td>The Anthology and the Rise of the Novel brings...</td>\n",
              "      <td>NaN</td>\n",
              "      <td>Paperback</td>\n",
              "      <td>9.78052E+12</td>\n",
              "      <td>236 pages</td>\n",
              "      <td>3.58</td>\n",
              "      <td>12</td>\n",
              "      <td>3</td>\n",
              "      <td>The Anthology and the Rise of the Novel: From ...</td>\n",
              "      <td>Criticism|Literary Criticism|Philosophy|Theory...</td>\n",
              "      <td>https://images.gr-assets.com/books/1349014225l...</td>\n",
              "    </tr>\n",
              "  </tbody>\n",
              "</table>\n",
              "<p>54301 rows × 12 columns</p>\n",
              "</div>"
            ],
            "text/plain": [
              "                                            book_authors  \\\n",
              "0                                        Suzanne Collins   \n",
              "1                             J.K. Rowling|Mary GrandPré   \n",
              "2                                             Harper Lee   \n",
              "3      Jane Austen|Anna Quindlen|Mrs. Oliphant|George...   \n",
              "4                                        Stephenie Meyer   \n",
              "...                                                  ...   \n",
              "54296                                      Howard Megdal   \n",
              "54297                                      Howard Megdal   \n",
              "54298                                      Howard Megdal   \n",
              "54299                             Mimi Baird|Eve Claxton   \n",
              "54300                                         Leah Price   \n",
              "\n",
              "                                               book_desc  \\\n",
              "0      Winning will make you famous. Losing means cer...   \n",
              "1      There is a door at the end of a silent corrido...   \n",
              "2      The unforgettable novel of a childhood in a sl...   \n",
              "3      «È cosa ormai risaputa che a uno scapolo in po...   \n",
              "4      About three things I was absolutely positive.F...   \n",
              "...                                                  ...   \n",
              "54296  In this fearless and half-crazy story, Howard ...   \n",
              "54297  From the icons of the game to the players who ...   \n",
              "54298                                                NaN   \n",
              "54299  Soon to be a major motion picture, from Brad P...   \n",
              "54300  The Anthology and the Rise of the Novel brings...   \n",
              "\n",
              "                             book_edition     book_format    book_isbn  \\\n",
              "0                                     NaN       Hardcover  9.78044E+12   \n",
              "1                              US Edition       Paperback  9.78044E+12   \n",
              "2                        50th Anniversary       Paperback  9.78006E+12   \n",
              "3      Modern Library Classics, USA / CAN       Paperback  9.78068E+12   \n",
              "4                                     NaN       Paperback  9.78032E+12   \n",
              "...                                   ...             ...          ...   \n",
              "54296                                 NaN       Hardcover  9.78161E+12   \n",
              "54297                                 NaN       Hardcover  9.78006E+12   \n",
              "54298                                 NaN  Kindle Edition          NaN   \n",
              "54299                                 NaN       Hardcover   9.7808E+12   \n",
              "54300                                 NaN       Paperback  9.78052E+12   \n",
              "\n",
              "      book_pages  book_rating  book_rating_count  book_review_count  \\\n",
              "0      374 pages         4.33            5519135             160706   \n",
              "1      870 pages         4.48            2041594              33264   \n",
              "2      324 pages         4.27            3745197              79450   \n",
              "3      279 pages         4.25            2453620              54322   \n",
              "4      498 pages         3.58            4281268              97991   \n",
              "...          ...          ...                ...                ...   \n",
              "54296  256 pages         3.37                 27                  9   \n",
              "54297  256 pages         3.97                 34                  5   \n",
              "54298        NaN         3.66                 32                  3   \n",
              "54299  272 pages         3.82                867                187   \n",
              "54300  236 pages         3.58                 12                  3   \n",
              "\n",
              "                                              book_title  \\\n",
              "0                                       The Hunger Games   \n",
              "1              Harry Potter and the Order of the Phoenix   \n",
              "2                                  To Kill a Mockingbird   \n",
              "3                                    Pride and Prejudice   \n",
              "4                                               Twilight   \n",
              "...                                                  ...   \n",
              "54296  Taking the Field: A Fan's Quest to Run the Tea...   \n",
              "54297  The Baseball Talmud: Koufax, Greenberg, and th...   \n",
              "54298  Wilpon's Folly - The Story of a Man, His Fortu...   \n",
              "54299  He Wanted the Moon: The Madness and Medical Ge...   \n",
              "54300  The Anthology and the Rise of the Novel: From ...   \n",
              "\n",
              "                                                  genres  \\\n",
              "0      Young Adult|Fiction|Science Fiction|Dystopia|F...   \n",
              "1                            Fantasy|Young Adult|Fiction   \n",
              "2      Classics|Fiction|Historical|Historical Fiction...   \n",
              "3                               Classics|Fiction|Romance   \n",
              "4      Young Adult|Fantasy|Romance|Paranormal|Vampire...   \n",
              "...                                                  ...   \n",
              "54296  Sports|Baseball|Sports and Games|Sports|Nonfic...   \n",
              "54297                 Nonfiction|Sports and Games|Sports   \n",
              "54298                          Sports|Baseball|Abandoned   \n",
              "54299  Nonfiction|Autobiography|Memoir|Biography|Psyc...   \n",
              "54300  Criticism|Literary Criticism|Philosophy|Theory...   \n",
              "\n",
              "                                               image_url  \n",
              "0      https://images.gr-assets.com/books/1447303603l...  \n",
              "1      https://images.gr-assets.com/books/1255614970l...  \n",
              "2      https://images.gr-assets.com/books/1361975680l...  \n",
              "3      https://images.gr-assets.com/books/1320399351l...  \n",
              "4      https://images.gr-assets.com/books/1361039443l...  \n",
              "...                                                  ...  \n",
              "54296  https://images.gr-assets.com/books/1312074392l...  \n",
              "54297  https://images.gr-assets.com/books/1348841629l...  \n",
              "54298  https://images.gr-assets.com/books/1394277097l...  \n",
              "54299  https://images.gr-assets.com/books/1403192135l...  \n",
              "54300  https://images.gr-assets.com/books/1349014225l...  \n",
              "\n",
              "[54301 rows x 12 columns]"
            ]
          },
          "execution_count": 3,
          "metadata": {},
          "output_type": "execute_result"
        }
      ],
      "source": [
        "red"
      ]
    },
    {
      "cell_type": "code",
      "execution_count": null,
      "metadata": {
        "execution": {
          "iopub.execute_input": "2021-01-24T19:16:24.324710Z",
          "iopub.status.busy": "2021-01-24T19:16:24.323872Z",
          "iopub.status.idle": "2021-01-24T19:16:24.328148Z",
          "shell.execute_reply": "2021-01-24T19:16:24.327483Z"
        },
        "papermill": {
          "duration": 0.035599,
          "end_time": "2021-01-24T19:16:24.328254",
          "exception": false,
          "start_time": "2021-01-24T19:16:24.292655",
          "status": "completed"
        },
        "tags": [],
        "id": "DyDFb0pM4rmz",
        "outputId": "74e8136e-25dd-442a-d391-67a084816f65"
      },
      "outputs": [
        {
          "data": {
            "text/plain": [
              "'https://images.gr-assets.com/books/1447303603l/2767052.jpg'"
            ]
          },
          "execution_count": 4,
          "metadata": {},
          "output_type": "execute_result"
        }
      ],
      "source": [
        "red.image_url[0]"
      ]
    },
    {
      "cell_type": "code",
      "execution_count": null,
      "metadata": {
        "execution": {
          "iopub.execute_input": "2021-01-24T19:16:24.390366Z",
          "iopub.status.busy": "2021-01-24T19:16:24.389691Z",
          "iopub.status.idle": "2021-01-24T19:16:24.416879Z",
          "shell.execute_reply": "2021-01-24T19:16:24.416297Z"
        },
        "papermill": {
          "duration": 0.062438,
          "end_time": "2021-01-24T19:16:24.416991",
          "exception": false,
          "start_time": "2021-01-24T19:16:24.354553",
          "status": "completed"
        },
        "tags": [],
        "id": "2lMoEWFr4rm0",
        "outputId": "90620ee9-27ae-4cb4-9894-e65a2acaa9ed"
      },
      "outputs": [
        {
          "data": {
            "text/html": [
              "<div>\n",
              "<style scoped>\n",
              "    .dataframe tbody tr th:only-of-type {\n",
              "        vertical-align: middle;\n",
              "    }\n",
              "\n",
              "    .dataframe tbody tr th {\n",
              "        vertical-align: top;\n",
              "    }\n",
              "\n",
              "    .dataframe thead th {\n",
              "        text-align: right;\n",
              "    }\n",
              "</style>\n",
              "<table border=\"1\" class=\"dataframe\">\n",
              "  <thead>\n",
              "    <tr style=\"text-align: right;\">\n",
              "      <th></th>\n",
              "      <th>book_rating</th>\n",
              "      <th>book_rating_count</th>\n",
              "      <th>book_review_count</th>\n",
              "    </tr>\n",
              "  </thead>\n",
              "  <tbody>\n",
              "    <tr>\n",
              "      <th>count</th>\n",
              "      <td>54301.000000</td>\n",
              "      <td>5.430100e+04</td>\n",
              "      <td>54301.00000</td>\n",
              "    </tr>\n",
              "    <tr>\n",
              "      <th>mean</th>\n",
              "      <td>4.020027</td>\n",
              "      <td>4.350449e+04</td>\n",
              "      <td>2011.60218</td>\n",
              "    </tr>\n",
              "    <tr>\n",
              "      <th>std</th>\n",
              "      <td>0.362100</td>\n",
              "      <td>2.126572e+05</td>\n",
              "      <td>7627.07287</td>\n",
              "    </tr>\n",
              "    <tr>\n",
              "      <th>min</th>\n",
              "      <td>0.000000</td>\n",
              "      <td>0.000000e+00</td>\n",
              "      <td>0.00000</td>\n",
              "    </tr>\n",
              "    <tr>\n",
              "      <th>25%</th>\n",
              "      <td>3.830000</td>\n",
              "      <td>4.070000e+02</td>\n",
              "      <td>35.00000</td>\n",
              "    </tr>\n",
              "    <tr>\n",
              "      <th>50%</th>\n",
              "      <td>4.030000</td>\n",
              "      <td>2.811000e+03</td>\n",
              "      <td>188.00000</td>\n",
              "    </tr>\n",
              "    <tr>\n",
              "      <th>75%</th>\n",
              "      <td>4.220000</td>\n",
              "      <td>1.274500e+04</td>\n",
              "      <td>822.00000</td>\n",
              "    </tr>\n",
              "    <tr>\n",
              "      <th>max</th>\n",
              "      <td>5.000000</td>\n",
              "      <td>5.588580e+06</td>\n",
              "      <td>160776.00000</td>\n",
              "    </tr>\n",
              "  </tbody>\n",
              "</table>\n",
              "</div>"
            ],
            "text/plain": [
              "        book_rating  book_rating_count  book_review_count\n",
              "count  54301.000000       5.430100e+04        54301.00000\n",
              "mean       4.020027       4.350449e+04         2011.60218\n",
              "std        0.362100       2.126572e+05         7627.07287\n",
              "min        0.000000       0.000000e+00            0.00000\n",
              "25%        3.830000       4.070000e+02           35.00000\n",
              "50%        4.030000       2.811000e+03          188.00000\n",
              "75%        4.220000       1.274500e+04          822.00000\n",
              "max        5.000000       5.588580e+06       160776.00000"
            ]
          },
          "execution_count": 5,
          "metadata": {},
          "output_type": "execute_result"
        }
      ],
      "source": [
        "red.describe()"
      ]
    },
    {
      "cell_type": "code",
      "execution_count": null,
      "metadata": {
        "execution": {
          "iopub.execute_input": "2021-01-24T19:16:24.511104Z",
          "iopub.status.busy": "2021-01-24T19:16:24.500315Z",
          "iopub.status.idle": "2021-01-24T19:16:24.896608Z",
          "shell.execute_reply": "2021-01-24T19:16:24.896083Z"
        },
        "papermill": {
          "duration": 0.452302,
          "end_time": "2021-01-24T19:16:24.896720",
          "exception": false,
          "start_time": "2021-01-24T19:16:24.444418",
          "status": "completed"
        },
        "tags": [],
        "id": "8I94-Dd64rm1",
        "outputId": "8182a8b3-b1ec-4af0-d4e6-1b7d5c924d7d"
      },
      "outputs": [
        {
          "data": {
            "text/html": [
              "<div>\n",
              "<style scoped>\n",
              "    .dataframe tbody tr th:only-of-type {\n",
              "        vertical-align: middle;\n",
              "    }\n",
              "\n",
              "    .dataframe tbody tr th {\n",
              "        vertical-align: top;\n",
              "    }\n",
              "\n",
              "    .dataframe thead th {\n",
              "        text-align: right;\n",
              "    }\n",
              "</style>\n",
              "<table border=\"1\" class=\"dataframe\">\n",
              "  <thead>\n",
              "    <tr style=\"text-align: right;\">\n",
              "      <th></th>\n",
              "      <th>book_authors</th>\n",
              "      <th>book_desc</th>\n",
              "      <th>book_edition</th>\n",
              "      <th>book_format</th>\n",
              "      <th>book_isbn</th>\n",
              "      <th>book_pages</th>\n",
              "      <th>book_title</th>\n",
              "      <th>genres</th>\n",
              "      <th>image_url</th>\n",
              "    </tr>\n",
              "  </thead>\n",
              "  <tbody>\n",
              "    <tr>\n",
              "      <th>count</th>\n",
              "      <td>54301</td>\n",
              "      <td>52970</td>\n",
              "      <td>5453</td>\n",
              "      <td>52645</td>\n",
              "      <td>41435</td>\n",
              "      <td>51779</td>\n",
              "      <td>54301</td>\n",
              "      <td>51059</td>\n",
              "      <td>53618</td>\n",
              "    </tr>\n",
              "    <tr>\n",
              "      <th>unique</th>\n",
              "      <td>27159</td>\n",
              "      <td>51781</td>\n",
              "      <td>2134</td>\n",
              "      <td>147</td>\n",
              "      <td>548</td>\n",
              "      <td>1403</td>\n",
              "      <td>48483</td>\n",
              "      <td>30094</td>\n",
              "      <td>53618</td>\n",
              "    </tr>\n",
              "    <tr>\n",
              "      <th>top</th>\n",
              "      <td>Stephen King</td>\n",
              "      <td>هذه هي طبعة \"دار الفكر - بيروت\" وهي آخر طبعة ع...</td>\n",
              "      <td>First Edition</td>\n",
              "      <td>Paperback</td>\n",
              "      <td>9.78006E+12</td>\n",
              "      <td>320 pages</td>\n",
              "      <td>1984</td>\n",
              "      <td>Fiction</td>\n",
              "      <td>https://images.gr-assets.com/books/1349882466l...</td>\n",
              "    </tr>\n",
              "    <tr>\n",
              "      <th>freq</th>\n",
              "      <td>112</td>\n",
              "      <td>38</td>\n",
              "      <td>437</td>\n",
              "      <td>28725</td>\n",
              "      <td>2421</td>\n",
              "      <td>1077</td>\n",
              "      <td>17</td>\n",
              "      <td>234</td>\n",
              "      <td>1</td>\n",
              "    </tr>\n",
              "  </tbody>\n",
              "</table>\n",
              "</div>"
            ],
            "text/plain": [
              "        book_authors                                          book_desc  \\\n",
              "count          54301                                              52970   \n",
              "unique         27159                                              51781   \n",
              "top     Stephen King  هذه هي طبعة \"دار الفكر - بيروت\" وهي آخر طبعة ع...   \n",
              "freq             112                                                 38   \n",
              "\n",
              "         book_edition book_format    book_isbn book_pages book_title   genres  \\\n",
              "count            5453       52645        41435      51779      54301    51059   \n",
              "unique           2134         147          548       1403      48483    30094   \n",
              "top     First Edition   Paperback  9.78006E+12  320 pages       1984  Fiction   \n",
              "freq              437       28725         2421       1077         17      234   \n",
              "\n",
              "                                                image_url  \n",
              "count                                               53618  \n",
              "unique                                              53618  \n",
              "top     https://images.gr-assets.com/books/1349882466l...  \n",
              "freq                                                    1  "
            ]
          },
          "execution_count": 6,
          "metadata": {},
          "output_type": "execute_result"
        }
      ],
      "source": [
        "red.describe(include='O')"
      ]
    },
    {
      "cell_type": "code",
      "execution_count": null,
      "metadata": {
        "execution": {
          "iopub.execute_input": "2021-01-24T19:16:25.009214Z",
          "iopub.status.busy": "2021-01-24T19:16:24.957296Z",
          "iopub.status.idle": "2021-01-24T19:16:25.016882Z",
          "shell.execute_reply": "2021-01-24T19:16:25.017346Z"
        },
        "papermill": {
          "duration": 0.092844,
          "end_time": "2021-01-24T19:16:25.017486",
          "exception": false,
          "start_time": "2021-01-24T19:16:24.924642",
          "status": "completed"
        },
        "tags": [],
        "id": "adQEB1sZ4rm1",
        "outputId": "97d45d84-7afa-4f31-90fb-b80c6ea1eb78"
      },
      "outputs": [
        {
          "data": {
            "text/plain": [
              "book_authors         0.000000\n",
              "book_desc            0.024512\n",
              "book_edition         0.899578\n",
              "book_format          0.030497\n",
              "book_isbn            0.236939\n",
              "book_pages           0.046445\n",
              "book_rating          0.000000\n",
              "book_rating_count    0.000000\n",
              "book_review_count    0.000000\n",
              "book_title           0.000000\n",
              "genres               0.059704\n",
              "image_url            0.012578\n",
              "dtype: float64"
            ]
          },
          "execution_count": 7,
          "metadata": {},
          "output_type": "execute_result"
        }
      ],
      "source": [
        "red.isnull().mean()"
      ]
    },
    {
      "cell_type": "code",
      "execution_count": null,
      "metadata": {
        "execution": {
          "iopub.execute_input": "2021-01-24T19:16:25.088719Z",
          "iopub.status.busy": "2021-01-24T19:16:25.088051Z",
          "iopub.status.idle": "2021-01-24T19:16:25.107767Z",
          "shell.execute_reply": "2021-01-24T19:16:25.107114Z"
        },
        "papermill": {
          "duration": 0.061877,
          "end_time": "2021-01-24T19:16:25.107908",
          "exception": false,
          "start_time": "2021-01-24T19:16:25.046031",
          "status": "completed"
        },
        "tags": [],
        "id": "s_pqefY44rm2"
      },
      "outputs": [],
      "source": [
        "red.drop(red[red['book_desc'].isna()].index,inplace=True)"
      ]
    },
    {
      "cell_type": "code",
      "execution_count": null,
      "metadata": {
        "execution": {
          "iopub.execute_input": "2021-01-24T19:16:25.176343Z",
          "iopub.status.busy": "2021-01-24T19:16:25.175658Z",
          "iopub.status.idle": "2021-01-24T19:16:25.179060Z",
          "shell.execute_reply": "2021-01-24T19:16:25.178416Z"
        },
        "papermill": {
          "duration": 0.042014,
          "end_time": "2021-01-24T19:16:25.179172",
          "exception": false,
          "start_time": "2021-01-24T19:16:25.137158",
          "status": "completed"
        },
        "tags": [],
        "id": "VZ-Jy8pj4rm2"
      },
      "outputs": [],
      "source": [
        "red=red.drop(['book_edition','book_isbn','image_url','book_pages'],1)"
      ]
    },
    {
      "cell_type": "code",
      "execution_count": null,
      "metadata": {
        "execution": {
          "iopub.execute_input": "2021-01-24T19:16:25.272000Z",
          "iopub.status.busy": "2021-01-24T19:16:25.271324Z",
          "iopub.status.idle": "2021-01-24T19:16:25.279672Z",
          "shell.execute_reply": "2021-01-24T19:16:25.279153Z"
        },
        "papermill": {
          "duration": 0.071895,
          "end_time": "2021-01-24T19:16:25.279776",
          "exception": false,
          "start_time": "2021-01-24T19:16:25.207881",
          "status": "completed"
        },
        "tags": [],
        "id": "SJw__7Bg4rm2",
        "outputId": "c21da5f9-fb5c-4104-a9e3-aa1f92592e22"
      },
      "outputs": [
        {
          "data": {
            "text/plain": [
              "book_authors            0\n",
              "book_desc               0\n",
              "book_format          1352\n",
              "book_rating             0\n",
              "book_rating_count       0\n",
              "book_review_count       0\n",
              "book_title              0\n",
              "genres               2793\n",
              "dtype: int64"
            ]
          },
          "execution_count": 10,
          "metadata": {},
          "output_type": "execute_result"
        }
      ],
      "source": [
        "red.isna().sum()"
      ]
    },
    {
      "cell_type": "code",
      "execution_count": null,
      "metadata": {
        "execution": {
          "iopub.execute_input": "2021-01-24T19:16:25.385229Z",
          "iopub.status.busy": "2021-01-24T19:16:25.384572Z",
          "iopub.status.idle": "2021-01-24T19:16:25.399669Z",
          "shell.execute_reply": "2021-01-24T19:16:25.400213Z"
        },
        "papermill": {
          "duration": 0.091761,
          "end_time": "2021-01-24T19:16:25.400367",
          "exception": false,
          "start_time": "2021-01-24T19:16:25.308606",
          "status": "completed"
        },
        "tags": [],
        "id": "4jJaWdad4rm3"
      },
      "outputs": [],
      "source": [
        "red=red.dropna()"
      ]
    },
    {
      "cell_type": "code",
      "execution_count": null,
      "metadata": {
        "execution": {
          "iopub.execute_input": "2021-01-24T19:16:25.462148Z",
          "iopub.status.busy": "2021-01-24T19:16:25.461488Z",
          "iopub.status.idle": "2021-01-24T19:16:25.472006Z",
          "shell.execute_reply": "2021-01-24T19:16:25.472499Z"
        },
        "papermill": {
          "duration": 0.043018,
          "end_time": "2021-01-24T19:16:25.472644",
          "exception": false,
          "start_time": "2021-01-24T19:16:25.429626",
          "status": "completed"
        },
        "tags": [],
        "id": "GFmeM3NM4rm3",
        "outputId": "50a58cc9-3ac5-4a66-a528-b0e6c1a48e39"
      },
      "outputs": [
        {
          "data": {
            "text/plain": [
              "array(['Hardcover', 'Paperback', 'Mass Market Paperback', 'ebook',\n",
              "       'Board book', 'Boxed Set', 'Audio CD', 'Capa comum',\n",
              "       'Kindle Edition', 'Audio Cassette', 'Capa dura', 'Box Set', 'Nook',\n",
              "       'Library Binding', 'Pasta blanda', 'Slipcased Hardcover',\n",
              "       'Broschiert', 'Unknown Binding', 'Trade Paperback', 'Board Book',\n",
              "       'Paperback ', 'MP3 CD', 'Audiobook', 'cloth', 'Brochura',\n",
              "       'Leather Bound', 'pocket', 'Audio', 'Textbook Binding',\n",
              "       'Paperback/Kindle', 'paper', 'Perfect Paperback',\n",
              "       'Digital virtual book', 'Hardcover Slipcased ', 'unknown',\n",
              "       'Paper back', 'Paperback, Kindle, Ebook, Audio',\n",
              "       'Paperback and Kindle', 'online serial', 'Klappenbroschur',\n",
              "       'Audible Audio', 'Hardcover im Schuber', 'Poche', 'paperback',\n",
              "       'Graphic Novels', 'broché', 'Science Fiction Book Club Omnibus',\n",
              "       'Newsprint', 'Spiral-bound', 'Mass Market', 'Comic',\n",
              "       'Hardcover Boxed Set', 'Taschenbuch', 'Mass Market Paperback ',\n",
              "       'Hardback', 'Gebundene Ausgabe', 'CD-ROM', 'hardbound',\n",
              "       'paperback, Kindle eBook', 'Kindle', 'Softcover', 'hardcover',\n",
              "       'Broché', 'Online Fiction', 'Hardbound', 'eBook Kindle',\n",
              "       'online fiction', 'Bonded Leather', 'paper book', 'Bolsillo',\n",
              "       'Capa mole', 'Paperback, eBook', 'Box-Set', 'capa mole',\n",
              "       'Tapa dura con sobrecubierta', 'Hard Cover', 'Bìa mềm', 'Gebunden',\n",
              "       'Flexibound', 'Trade Paper', 'Capa mole - 15,5 x 23 x 2cm',\n",
              "       'Trade paperback', 'Cofanetto', 'コミック', 'Capa Mole', 'Vinyl Cover',\n",
              "       'Digital Comic', 'Large Paperback',\n",
              "       'Interactive Fiction, Gamebook', 'revised edition',\n",
              "       'School & Library Binding', 'Hardcover Chapbook', 'Wattpad',\n",
              "       'Board', 'Hardcover, Case bound', 'Audio CD ', 'text', 'hardback',\n",
              "       'Capa Dura', 'PDF', 'Innbundet', 'Newsletter Serial', 'web', '文庫',\n",
              "       'Diary', 'Kovakantinen', 'Online', 'Digital', 'Imitation Leather',\n",
              "       'Мягкая обложка (Paperback)', 'Hardcover-spiral', 'Tapa blanda',\n",
              "       'Online Fiction - Complete', '単行本', 'Unbound', 'Edición Kindle',\n",
              "       ' Trade Paperback', 'Pamphlet', 'Big Book', 'Brossura', 'Podcast',\n",
              "       'Audio Book', 'Paperback (عربي-English)', 'PDF ', 'audio cassette',\n",
              "       'free online', 'Other Format', 'Novelty Book', 'Podiobook',\n",
              "       'Tankobon Hardcover', 'Turtleback', 'Audio Cd', 'Casebound',\n",
              "       'audiobook', 'Bantam New Fiction'], dtype=object)"
            ]
          },
          "execution_count": 12,
          "metadata": {},
          "output_type": "execute_result"
        }
      ],
      "source": [
        "pd.unique(red['book_format'])"
      ]
    },
    {
      "cell_type": "code",
      "execution_count": null,
      "metadata": {
        "execution": {
          "iopub.execute_input": "2021-01-24T19:16:25.536768Z",
          "iopub.status.busy": "2021-01-24T19:16:25.536144Z",
          "iopub.status.idle": "2021-01-24T19:16:25.541319Z",
          "shell.execute_reply": "2021-01-24T19:16:25.541946Z"
        },
        "papermill": {
          "duration": 0.039851,
          "end_time": "2021-01-24T19:16:25.542081",
          "exception": false,
          "start_time": "2021-01-24T19:16:25.502230",
          "status": "completed"
        },
        "scrolled": true,
        "tags": [],
        "id": "DAbKniOb4rm3",
        "outputId": "4d5d9b10-e67b-414f-d6c5-09911711326d"
      },
      "outputs": [
        {
          "data": {
            "text/plain": [
              "\"A funny, often poignant tale of boy meets girl with a twist: what if one of them couldn't stop slipping in and out of time? Highly original and imaginative, this debut novel raises questions about life, love, and the effects of time on relationships.Audrey Niffenegger’s innovative debut, The Time Traveler’s Wife, is the story of Clare, a beautiful art student, and Henry, an adventuresome librarian, who have known each other since Clare was six and Henry was thirty-six, and were married when Clare was twenty-three and Henry thirty-one. Impossible but true, because Henry is one of the first people diagnosed with Chrono-Displacement Disorder: periodically his genetic clock resets and he finds himself misplaced in time, pulled to moments of emotional gravity in his life, past and future. His disappearances are spontaneous, his experiences unpredictable, alternately harrowing and amusing. The Time Traveler’s Wife depicts the effects of time travel on Henry and Clare’s marriage and their passionate love for each other as the story unfolds from both points of view. Clare and Henry attempt to live normal lives, pursuing familiar goals—steady jobs, good friends, children of their own. All of this is threatened by something they can neither prevent nor control, making their story intensely moving and entirely unforgettable.\""
            ]
          },
          "execution_count": 13,
          "metadata": {},
          "output_type": "execute_result"
        }
      ],
      "source": [
        "red.book_desc[30]"
      ]
    },
    {
      "cell_type": "code",
      "execution_count": null,
      "metadata": {
        "execution": {
          "iopub.execute_input": "2021-01-24T19:16:25.607002Z",
          "iopub.status.busy": "2021-01-24T19:16:25.605981Z",
          "iopub.status.idle": "2021-01-24T19:16:25.622133Z",
          "shell.execute_reply": "2021-01-24T19:16:25.621586Z"
        },
        "papermill": {
          "duration": 0.049783,
          "end_time": "2021-01-24T19:16:25.622249",
          "exception": false,
          "start_time": "2021-01-24T19:16:25.572466",
          "status": "completed"
        },
        "scrolled": true,
        "tags": [],
        "id": "3eOEyqN44rm4",
        "outputId": "a3c8a9f8-6d2c-4746-eb37-016e59016eb5"
      },
      "outputs": [
        {
          "data": {
            "text/html": [
              "<div>\n",
              "<style scoped>\n",
              "    .dataframe tbody tr th:only-of-type {\n",
              "        vertical-align: middle;\n",
              "    }\n",
              "\n",
              "    .dataframe tbody tr th {\n",
              "        vertical-align: top;\n",
              "    }\n",
              "\n",
              "    .dataframe thead th {\n",
              "        text-align: right;\n",
              "    }\n",
              "</style>\n",
              "<table border=\"1\" class=\"dataframe\">\n",
              "  <thead>\n",
              "    <tr style=\"text-align: right;\">\n",
              "      <th></th>\n",
              "      <th>book_authors</th>\n",
              "      <th>book_desc</th>\n",
              "      <th>book_format</th>\n",
              "      <th>book_rating</th>\n",
              "      <th>book_rating_count</th>\n",
              "      <th>book_review_count</th>\n",
              "      <th>book_title</th>\n",
              "      <th>genres</th>\n",
              "    </tr>\n",
              "  </thead>\n",
              "  <tbody>\n",
              "    <tr>\n",
              "      <th>0</th>\n",
              "      <td>Suzanne Collins</td>\n",
              "      <td>Winning will make you famous. Losing means cer...</td>\n",
              "      <td>Hardcover</td>\n",
              "      <td>4.33</td>\n",
              "      <td>5519135</td>\n",
              "      <td>160706</td>\n",
              "      <td>The Hunger Games</td>\n",
              "      <td>Young Adult|Fiction|Science Fiction|Dystopia|F...</td>\n",
              "    </tr>\n",
              "    <tr>\n",
              "      <th>1</th>\n",
              "      <td>J.K. Rowling|Mary GrandPré</td>\n",
              "      <td>There is a door at the end of a silent corrido...</td>\n",
              "      <td>Paperback</td>\n",
              "      <td>4.48</td>\n",
              "      <td>2041594</td>\n",
              "      <td>33264</td>\n",
              "      <td>Harry Potter and the Order of the Phoenix</td>\n",
              "      <td>Fantasy|Young Adult|Fiction</td>\n",
              "    </tr>\n",
              "    <tr>\n",
              "      <th>2</th>\n",
              "      <td>Harper Lee</td>\n",
              "      <td>The unforgettable novel of a childhood in a sl...</td>\n",
              "      <td>Paperback</td>\n",
              "      <td>4.27</td>\n",
              "      <td>3745197</td>\n",
              "      <td>79450</td>\n",
              "      <td>To Kill a Mockingbird</td>\n",
              "      <td>Classics|Fiction|Historical|Historical Fiction...</td>\n",
              "    </tr>\n",
              "    <tr>\n",
              "      <th>3</th>\n",
              "      <td>Jane Austen|Anna Quindlen|Mrs. Oliphant|George...</td>\n",
              "      <td>«È cosa ormai risaputa che a uno scapolo in po...</td>\n",
              "      <td>Paperback</td>\n",
              "      <td>4.25</td>\n",
              "      <td>2453620</td>\n",
              "      <td>54322</td>\n",
              "      <td>Pride and Prejudice</td>\n",
              "      <td>Classics|Fiction|Romance</td>\n",
              "    </tr>\n",
              "    <tr>\n",
              "      <th>4</th>\n",
              "      <td>Stephenie Meyer</td>\n",
              "      <td>About three things I was absolutely positive.F...</td>\n",
              "      <td>Paperback</td>\n",
              "      <td>3.58</td>\n",
              "      <td>4281268</td>\n",
              "      <td>97991</td>\n",
              "      <td>Twilight</td>\n",
              "      <td>Young Adult|Fantasy|Romance|Paranormal|Vampire...</td>\n",
              "    </tr>\n",
              "  </tbody>\n",
              "</table>\n",
              "</div>"
            ],
            "text/plain": [
              "                                        book_authors  \\\n",
              "0                                    Suzanne Collins   \n",
              "1                         J.K. Rowling|Mary GrandPré   \n",
              "2                                         Harper Lee   \n",
              "3  Jane Austen|Anna Quindlen|Mrs. Oliphant|George...   \n",
              "4                                    Stephenie Meyer   \n",
              "\n",
              "                                           book_desc book_format  book_rating  \\\n",
              "0  Winning will make you famous. Losing means cer...   Hardcover         4.33   \n",
              "1  There is a door at the end of a silent corrido...   Paperback         4.48   \n",
              "2  The unforgettable novel of a childhood in a sl...   Paperback         4.27   \n",
              "3  «È cosa ormai risaputa che a uno scapolo in po...   Paperback         4.25   \n",
              "4  About three things I was absolutely positive.F...   Paperback         3.58   \n",
              "\n",
              "   book_rating_count  book_review_count  \\\n",
              "0            5519135             160706   \n",
              "1            2041594              33264   \n",
              "2            3745197              79450   \n",
              "3            2453620              54322   \n",
              "4            4281268              97991   \n",
              "\n",
              "                                  book_title  \\\n",
              "0                           The Hunger Games   \n",
              "1  Harry Potter and the Order of the Phoenix   \n",
              "2                      To Kill a Mockingbird   \n",
              "3                        Pride and Prejudice   \n",
              "4                                   Twilight   \n",
              "\n",
              "                                              genres  \n",
              "0  Young Adult|Fiction|Science Fiction|Dystopia|F...  \n",
              "1                        Fantasy|Young Adult|Fiction  \n",
              "2  Classics|Fiction|Historical|Historical Fiction...  \n",
              "3                           Classics|Fiction|Romance  \n",
              "4  Young Adult|Fantasy|Romance|Paranormal|Vampire...  "
            ]
          },
          "execution_count": 14,
          "metadata": {},
          "output_type": "execute_result"
        }
      ],
      "source": [
        "red.head()"
      ]
    },
    {
      "cell_type": "code",
      "execution_count": null,
      "metadata": {
        "execution": {
          "iopub.execute_input": "2021-01-24T19:16:25.702952Z",
          "iopub.status.busy": "2021-01-24T19:16:25.692554Z",
          "iopub.status.idle": "2021-01-24T19:16:25.764009Z",
          "shell.execute_reply": "2021-01-24T19:16:25.763390Z"
        },
        "papermill": {
          "duration": 0.110889,
          "end_time": "2021-01-24T19:16:25.764121",
          "exception": false,
          "start_time": "2021-01-24T19:16:25.653232",
          "status": "completed"
        },
        "tags": [],
        "id": "qoAX-FP54rm4"
      },
      "outputs": [],
      "source": [
        "def to_string(x):\n",
        "    if x:\n",
        "        return x.replace('|',' ')\n",
        "    else:\n",
        "        return ''\n",
        "    \n",
        "red['book_authors']=red['book_authors'].apply(lambda x: to_string(x))\n",
        "red['genres']=red['genres'].apply(lambda x: to_string(x))"
      ]
    },
    {
      "cell_type": "code",
      "execution_count": null,
      "metadata": {
        "execution": {
          "iopub.execute_input": "2021-01-24T19:16:25.834124Z",
          "iopub.status.busy": "2021-01-24T19:16:25.833235Z",
          "iopub.status.idle": "2021-01-24T19:16:25.837665Z",
          "shell.execute_reply": "2021-01-24T19:16:25.837150Z"
        },
        "papermill": {
          "duration": 0.042805,
          "end_time": "2021-01-24T19:16:25.837767",
          "exception": false,
          "start_time": "2021-01-24T19:16:25.794962",
          "status": "completed"
        },
        "tags": [],
        "id": "wAsLyIBo4rm5",
        "outputId": "83145fa7-b920-4ca9-d2b0-26213c34b565"
      },
      "outputs": [
        {
          "data": {
            "text/plain": [
              "Index(['book_authors', 'book_desc', 'book_format', 'book_rating',\n",
              "       'book_rating_count', 'book_review_count', 'book_title', 'genres'],\n",
              "      dtype='object')"
            ]
          },
          "execution_count": 16,
          "metadata": {},
          "output_type": "execute_result"
        }
      ],
      "source": [
        "red.columns"
      ]
    },
    {
      "cell_type": "code",
      "execution_count": null,
      "metadata": {
        "execution": {
          "iopub.execute_input": "2021-01-24T19:16:25.906600Z",
          "iopub.status.busy": "2021-01-24T19:16:25.905578Z",
          "iopub.status.idle": "2021-01-24T19:16:25.910996Z",
          "shell.execute_reply": "2021-01-24T19:16:25.911756Z"
        },
        "papermill": {
          "duration": 0.042399,
          "end_time": "2021-01-24T19:16:25.911979",
          "exception": false,
          "start_time": "2021-01-24T19:16:25.869580",
          "status": "completed"
        },
        "tags": [],
        "id": "2ton6FK_4rm5"
      },
      "outputs": [],
      "source": [
        "def soup(x):\n",
        "    return x.book_authors+' '+x.genres"
      ]
    },
    {
      "cell_type": "code",
      "execution_count": null,
      "metadata": {
        "execution": {
          "iopub.execute_input": "2021-01-24T19:16:25.988025Z",
          "iopub.status.busy": "2021-01-24T19:16:25.985426Z",
          "iopub.status.idle": "2021-01-24T19:16:27.529629Z",
          "shell.execute_reply": "2021-01-24T19:16:27.530213Z"
        },
        "papermill": {
          "duration": 1.580096,
          "end_time": "2021-01-24T19:16:27.530359",
          "exception": false,
          "start_time": "2021-01-24T19:16:25.950263",
          "status": "completed"
        },
        "tags": [],
        "id": "NjMekfAz4rm6"
      },
      "outputs": [],
      "source": [
        "red['soup']=red.apply(soup, 1)"
      ]
    },
    {
      "cell_type": "markdown",
      "metadata": {
        "papermill": {
          "duration": 0.031233,
          "end_time": "2021-01-24T19:16:27.593338",
          "exception": false,
          "start_time": "2021-01-24T19:16:27.562105",
          "status": "completed"
        },
        "tags": [],
        "id": "yb50Iuxz4rm6"
      },
      "source": [
        "_________________________________________"
      ]
    },
    {
      "cell_type": "markdown",
      "metadata": {
        "papermill": {
          "duration": 0.031051,
          "end_time": "2021-01-24T19:16:27.656280",
          "exception": false,
          "start_time": "2021-01-24T19:16:27.625229",
          "status": "completed"
        },
        "tags": [],
        "id": "qXvIf1sj4rm6"
      },
      "source": [
        "# Creating Sample\n",
        "### Taking a sample out of large dataset"
      ]
    },
    {
      "cell_type": "code",
      "execution_count": null,
      "metadata": {
        "execution": {
          "iopub.execute_input": "2021-01-24T19:16:27.723949Z",
          "iopub.status.busy": "2021-01-24T19:16:27.722969Z",
          "iopub.status.idle": "2021-01-24T19:16:27.749356Z",
          "shell.execute_reply": "2021-01-24T19:16:27.749837Z"
        },
        "papermill": {
          "duration": 0.061322,
          "end_time": "2021-01-24T19:16:27.750024",
          "exception": false,
          "start_time": "2021-01-24T19:16:27.688702",
          "status": "completed"
        },
        "tags": [],
        "id": "9XnINJGV4rm6"
      },
      "outputs": [],
      "source": [
        "black = (red.sample(replace = False, # Pick every row once\n",
        "                         frac = 0.3) # Random state for reproducibility\n",
        "            .sort_index()\n",
        "           .reset_index())"
      ]
    },
    {
      "cell_type": "code",
      "execution_count": null,
      "metadata": {
        "execution": {
          "iopub.execute_input": "2021-01-24T19:16:27.817344Z",
          "iopub.status.busy": "2021-01-24T19:16:27.816368Z",
          "iopub.status.idle": "2021-01-24T19:16:27.832666Z",
          "shell.execute_reply": "2021-01-24T19:16:27.833243Z"
        },
        "papermill": {
          "duration": 0.051572,
          "end_time": "2021-01-24T19:16:27.833395",
          "exception": false,
          "start_time": "2021-01-24T19:16:27.781823",
          "status": "completed"
        },
        "tags": [],
        "id": "Mtunr2ki4rm7"
      },
      "outputs": [],
      "source": [
        "black.drop_duplicates(subset =\"book_title\", \n",
        "                     keep = False, inplace = True) \n",
        "  "
      ]
    },
    {
      "cell_type": "code",
      "execution_count": null,
      "metadata": {
        "execution": {
          "iopub.execute_input": "2021-01-24T19:16:27.921790Z",
          "iopub.status.busy": "2021-01-24T19:16:27.920795Z",
          "iopub.status.idle": "2021-01-24T19:16:27.926362Z",
          "shell.execute_reply": "2021-01-24T19:16:27.925658Z"
        },
        "papermill": {
          "duration": 0.059937,
          "end_time": "2021-01-24T19:16:27.926485",
          "exception": false,
          "start_time": "2021-01-24T19:16:27.866548",
          "status": "completed"
        },
        "tags": [],
        "id": "SYhpljr94rm7",
        "outputId": "3cbddf33-d2ce-417b-bb7e-184a3d06cf2c"
      },
      "outputs": [
        {
          "data": {
            "text/html": [
              "<div>\n",
              "<style scoped>\n",
              "    .dataframe tbody tr th:only-of-type {\n",
              "        vertical-align: middle;\n",
              "    }\n",
              "\n",
              "    .dataframe tbody tr th {\n",
              "        vertical-align: top;\n",
              "    }\n",
              "\n",
              "    .dataframe thead th {\n",
              "        text-align: right;\n",
              "    }\n",
              "</style>\n",
              "<table border=\"1\" class=\"dataframe\">\n",
              "  <thead>\n",
              "    <tr style=\"text-align: right;\">\n",
              "      <th></th>\n",
              "      <th>index</th>\n",
              "      <th>book_authors</th>\n",
              "      <th>book_desc</th>\n",
              "      <th>book_format</th>\n",
              "      <th>book_rating</th>\n",
              "      <th>book_rating_count</th>\n",
              "      <th>book_review_count</th>\n",
              "      <th>book_title</th>\n",
              "      <th>genres</th>\n",
              "      <th>soup</th>\n",
              "    </tr>\n",
              "  </thead>\n",
              "  <tbody>\n",
              "    <tr>\n",
              "      <th>1</th>\n",
              "      <td>1</td>\n",
              "      <td>J.K. Rowling Mary GrandPré</td>\n",
              "      <td>There is a door at the end of a silent corrido...</td>\n",
              "      <td>Paperback</td>\n",
              "      <td>4.48</td>\n",
              "      <td>2041594</td>\n",
              "      <td>33264</td>\n",
              "      <td>Harry Potter and the Order of the Phoenix</td>\n",
              "      <td>Fantasy Young Adult Fiction</td>\n",
              "      <td>J.K. Rowling Mary GrandPré Fantasy Young Adult...</td>\n",
              "    </tr>\n",
              "    <tr>\n",
              "      <th>6</th>\n",
              "      <td>9</td>\n",
              "      <td>J.R.R. Tolkien</td>\n",
              "      <td>لجزء الثالث من ملحمة جيه أر أر تولكين الرائعة ...</td>\n",
              "      <td>Mass Market Paperback</td>\n",
              "      <td>4.59</td>\n",
              "      <td>99793</td>\n",
              "      <td>1652</td>\n",
              "      <td>J.R.R. Tolkien 4-Book Boxed Set: The Hobbit an...</td>\n",
              "      <td>Fantasy Fiction Classics</td>\n",
              "      <td>J.R.R. Tolkien Fantasy Fiction Classics</td>\n",
              "    </tr>\n",
              "    <tr>\n",
              "      <th>10</th>\n",
              "      <td>21</td>\n",
              "      <td>William Shakespeare Barbara A. Mowat Paul Wers...</td>\n",
              "      <td>In Romeo and Juliet, Shakespeare creates a wor...</td>\n",
              "      <td>Mass Market Paperback</td>\n",
              "      <td>3.74</td>\n",
              "      <td>1818262</td>\n",
              "      <td>16442</td>\n",
              "      <td>Romeo and Juliet</td>\n",
              "      <td>Classics Plays Fiction Romance Academic School...</td>\n",
              "      <td>William Shakespeare Barbara A. Mowat Paul Wers...</td>\n",
              "    </tr>\n",
              "    <tr>\n",
              "      <th>13</th>\n",
              "      <td>38</td>\n",
              "      <td>William Goldman</td>\n",
              "      <td>What happens when the most beautiful girl in t...</td>\n",
              "      <td>Paperback</td>\n",
              "      <td>4.26</td>\n",
              "      <td>685278</td>\n",
              "      <td>17221</td>\n",
              "      <td>The Princess Bride</td>\n",
              "      <td>Fantasy Fiction Classics Romance Humor Young A...</td>\n",
              "      <td>William Goldman Fantasy Fiction Classics Roman...</td>\n",
              "    </tr>\n",
              "    <tr>\n",
              "      <th>15</th>\n",
              "      <td>45</td>\n",
              "      <td>Rick Riordan</td>\n",
              "      <td>Alternate cover for this ISBN can be found her...</td>\n",
              "      <td>Paperback</td>\n",
              "      <td>4.24</td>\n",
              "      <td>1623502</td>\n",
              "      <td>50794</td>\n",
              "      <td>The Lightning Thief</td>\n",
              "      <td>Fantasy Young Adult Fantasy Mythology Fiction</td>\n",
              "      <td>Rick Riordan Fantasy Young Adult Fantasy Mytho...</td>\n",
              "    </tr>\n",
              "    <tr>\n",
              "      <th>...</th>\n",
              "      <td>...</td>\n",
              "      <td>...</td>\n",
              "      <td>...</td>\n",
              "      <td>...</td>\n",
              "      <td>...</td>\n",
              "      <td>...</td>\n",
              "      <td>...</td>\n",
              "      <td>...</td>\n",
              "      <td>...</td>\n",
              "      <td>...</td>\n",
              "    </tr>\n",
              "    <tr>\n",
              "      <th>14693</th>\n",
              "      <td>54270</td>\n",
              "      <td>Kazuma Kamachi Kiyotaka Haimura</td>\n",
              "      <td>In Academy City, magic and science coexist in ...</td>\n",
              "      <td>Paperback</td>\n",
              "      <td>3.99</td>\n",
              "      <td>858</td>\n",
              "      <td>37</td>\n",
              "      <td>A Certain Magical Index, Vol. 1</td>\n",
              "      <td>Novels Light Novel Fantasy Sequential Art Mang...</td>\n",
              "      <td>Kazuma Kamachi Kiyotaka Haimura Novels Light N...</td>\n",
              "    </tr>\n",
              "    <tr>\n",
              "      <th>14694</th>\n",
              "      <td>54271</td>\n",
              "      <td>Kazuma Kamachi Kiyotaka Haimura</td>\n",
              "      <td>「そこ、女の子が捕まってるから」“超能力”が一般科学として認知された学園都市、その「三沢塾」...</td>\n",
              "      <td>文庫</td>\n",
              "      <td>3.88</td>\n",
              "      <td>443</td>\n",
              "      <td>13</td>\n",
              "      <td>とある魔術の禁書目録 2</td>\n",
              "      <td>Novels Light Novel Fantasy Science Fiction Seq...</td>\n",
              "      <td>Kazuma Kamachi Kiyotaka Haimura Novels Light N...</td>\n",
              "    </tr>\n",
              "    <tr>\n",
              "      <th>14695</th>\n",
              "      <td>54274</td>\n",
              "      <td>Yoshitoki Oima</td>\n",
              "      <td>“Tolong jangan lari, Nishimiya!”Ishida Shoya, ...</td>\n",
              "      <td>Paperback</td>\n",
              "      <td>4.37</td>\n",
              "      <td>4300</td>\n",
              "      <td>299</td>\n",
              "      <td>The Shape of Voice 02</td>\n",
              "      <td>Sequential Art Manga Sequential Art Graphic No...</td>\n",
              "      <td>Yoshitoki Oima Sequential Art Manga Sequential...</td>\n",
              "    </tr>\n",
              "    <tr>\n",
              "      <th>14696</th>\n",
              "      <td>54287</td>\n",
              "      <td>WAKAKI Tamiki</td>\n",
              "      <td>Target Keima kali ini adalah kapten klub karat...</td>\n",
              "      <td>Paperback</td>\n",
              "      <td>4.45</td>\n",
              "      <td>22</td>\n",
              "      <td>0</td>\n",
              "      <td>The World God Only Knows 03 (The World God Onl...</td>\n",
              "      <td>Sequential Art Manga</td>\n",
              "      <td>WAKAKI Tamiki Sequential Art Manga</td>\n",
              "    </tr>\n",
              "    <tr>\n",
              "      <th>14697</th>\n",
              "      <td>54295</td>\n",
              "      <td>Avi Steinberg</td>\n",
              "      <td>Avi Steinberg is stumped. After defecting from...</td>\n",
              "      <td>Hardcover</td>\n",
              "      <td>3.51</td>\n",
              "      <td>3717</td>\n",
              "      <td>661</td>\n",
              "      <td>Running the Books: The Adventures of an Accide...</td>\n",
              "      <td>Nonfiction Autobiography Memoir Biography Writ...</td>\n",
              "      <td>Avi Steinberg Nonfiction Autobiography Memoir ...</td>\n",
              "    </tr>\n",
              "  </tbody>\n",
              "</table>\n",
              "<p>13444 rows × 10 columns</p>\n",
              "</div>"
            ],
            "text/plain": [
              "       index                                       book_authors  \\\n",
              "1          1                         J.K. Rowling Mary GrandPré   \n",
              "6          9                                     J.R.R. Tolkien   \n",
              "10        21  William Shakespeare Barbara A. Mowat Paul Wers...   \n",
              "13        38                                    William Goldman   \n",
              "15        45                                       Rick Riordan   \n",
              "...      ...                                                ...   \n",
              "14693  54270                    Kazuma Kamachi Kiyotaka Haimura   \n",
              "14694  54271                    Kazuma Kamachi Kiyotaka Haimura   \n",
              "14695  54274                                     Yoshitoki Oima   \n",
              "14696  54287                                      WAKAKI Tamiki   \n",
              "14697  54295                                      Avi Steinberg   \n",
              "\n",
              "                                               book_desc  \\\n",
              "1      There is a door at the end of a silent corrido...   \n",
              "6      لجزء الثالث من ملحمة جيه أر أر تولكين الرائعة ...   \n",
              "10     In Romeo and Juliet, Shakespeare creates a wor...   \n",
              "13     What happens when the most beautiful girl in t...   \n",
              "15     Alternate cover for this ISBN can be found her...   \n",
              "...                                                  ...   \n",
              "14693  In Academy City, magic and science coexist in ...   \n",
              "14694  「そこ、女の子が捕まってるから」“超能力”が一般科学として認知された学園都市、その「三沢塾」...   \n",
              "14695  “Tolong jangan lari, Nishimiya!”Ishida Shoya, ...   \n",
              "14696  Target Keima kali ini adalah kapten klub karat...   \n",
              "14697  Avi Steinberg is stumped. After defecting from...   \n",
              "\n",
              "                 book_format  book_rating  book_rating_count  \\\n",
              "1                  Paperback         4.48            2041594   \n",
              "6      Mass Market Paperback         4.59              99793   \n",
              "10     Mass Market Paperback         3.74            1818262   \n",
              "13                 Paperback         4.26             685278   \n",
              "15                 Paperback         4.24            1623502   \n",
              "...                      ...          ...                ...   \n",
              "14693              Paperback         3.99                858   \n",
              "14694                     文庫         3.88                443   \n",
              "14695              Paperback         4.37               4300   \n",
              "14696              Paperback         4.45                 22   \n",
              "14697              Hardcover         3.51               3717   \n",
              "\n",
              "       book_review_count                                         book_title  \\\n",
              "1                  33264          Harry Potter and the Order of the Phoenix   \n",
              "6                   1652  J.R.R. Tolkien 4-Book Boxed Set: The Hobbit an...   \n",
              "10                 16442                                   Romeo and Juliet   \n",
              "13                 17221                                 The Princess Bride   \n",
              "15                 50794                                The Lightning Thief   \n",
              "...                  ...                                                ...   \n",
              "14693                 37                    A Certain Magical Index, Vol. 1   \n",
              "14694                 13                                       とある魔術の禁書目録 2   \n",
              "14695                299                              The Shape of Voice 02   \n",
              "14696                  0  The World God Only Knows 03 (The World God Onl...   \n",
              "14697                661  Running the Books: The Adventures of an Accide...   \n",
              "\n",
              "                                                  genres  \\\n",
              "1                            Fantasy Young Adult Fiction   \n",
              "6                               Fantasy Fiction Classics   \n",
              "10     Classics Plays Fiction Romance Academic School...   \n",
              "13     Fantasy Fiction Classics Romance Humor Young A...   \n",
              "15         Fantasy Young Adult Fantasy Mythology Fiction   \n",
              "...                                                  ...   \n",
              "14693  Novels Light Novel Fantasy Sequential Art Mang...   \n",
              "14694  Novels Light Novel Fantasy Science Fiction Seq...   \n",
              "14695  Sequential Art Manga Sequential Art Graphic No...   \n",
              "14696                               Sequential Art Manga   \n",
              "14697  Nonfiction Autobiography Memoir Biography Writ...   \n",
              "\n",
              "                                                    soup  \n",
              "1      J.K. Rowling Mary GrandPré Fantasy Young Adult...  \n",
              "6                J.R.R. Tolkien Fantasy Fiction Classics  \n",
              "10     William Shakespeare Barbara A. Mowat Paul Wers...  \n",
              "13     William Goldman Fantasy Fiction Classics Roman...  \n",
              "15     Rick Riordan Fantasy Young Adult Fantasy Mytho...  \n",
              "...                                                  ...  \n",
              "14693  Kazuma Kamachi Kiyotaka Haimura Novels Light N...  \n",
              "14694  Kazuma Kamachi Kiyotaka Haimura Novels Light N...  \n",
              "14695  Yoshitoki Oima Sequential Art Manga Sequential...  \n",
              "14696                 WAKAKI Tamiki Sequential Art Manga  \n",
              "14697  Avi Steinberg Nonfiction Autobiography Memoir ...  \n",
              "\n",
              "[13444 rows x 10 columns]"
            ]
          },
          "execution_count": 21,
          "metadata": {},
          "output_type": "execute_result"
        }
      ],
      "source": [
        "black"
      ]
    },
    {
      "cell_type": "code",
      "execution_count": null,
      "metadata": {
        "execution": {
          "iopub.execute_input": "2021-01-24T19:16:28.002910Z",
          "iopub.status.busy": "2021-01-24T19:16:28.002212Z",
          "iopub.status.idle": "2021-01-24T19:16:28.028408Z",
          "shell.execute_reply": "2021-01-24T19:16:28.028917Z"
        },
        "papermill": {
          "duration": 0.068811,
          "end_time": "2021-01-24T19:16:28.029068",
          "exception": false,
          "start_time": "2021-01-24T19:16:27.960257",
          "status": "completed"
        },
        "tags": [],
        "id": "y89brTLD4rm7"
      },
      "outputs": [],
      "source": [
        "pink=black.sort_values(by='genres',ascending=True)"
      ]
    },
    {
      "cell_type": "markdown",
      "metadata": {
        "papermill": {
          "duration": 0.03317,
          "end_time": "2021-01-24T19:16:28.095550",
          "exception": false,
          "start_time": "2021-01-24T19:16:28.062380",
          "status": "completed"
        },
        "tags": [],
        "id": "dp0kA6dQ4rm8"
      },
      "source": [
        "# TF-IDF Vectorizer"
      ]
    },
    {
      "cell_type": "code",
      "execution_count": null,
      "metadata": {
        "execution": {
          "iopub.execute_input": "2021-01-24T19:16:28.229144Z",
          "iopub.status.busy": "2021-01-24T19:16:28.193186Z",
          "iopub.status.idle": "2021-01-24T19:16:28.454667Z",
          "shell.execute_reply": "2021-01-24T19:16:28.455162Z"
        },
        "papermill": {
          "duration": 0.32557,
          "end_time": "2021-01-24T19:16:28.455335",
          "exception": false,
          "start_time": "2021-01-24T19:16:28.129765",
          "status": "completed"
        },
        "tags": [],
        "id": "4r1eSjNz4rm8"
      },
      "outputs": [],
      "source": [
        "from sklearn.feature_extraction.text import TfidfVectorizer\n",
        "tf=TfidfVectorizer()\n",
        "tf_mat=tf.fit_transform(black.soup)"
      ]
    },
    {
      "cell_type": "code",
      "execution_count": null,
      "metadata": {
        "execution": {
          "iopub.execute_input": "2021-01-24T19:16:28.534021Z",
          "iopub.status.busy": "2021-01-24T19:16:28.533016Z",
          "iopub.status.idle": "2021-01-24T19:16:28.536821Z",
          "shell.execute_reply": "2021-01-24T19:16:28.537331Z"
        },
        "papermill": {
          "duration": 0.043989,
          "end_time": "2021-01-24T19:16:28.537465",
          "exception": false,
          "start_time": "2021-01-24T19:16:28.493476",
          "status": "completed"
        },
        "tags": [],
        "id": "ItYkAwo04rm8",
        "outputId": "48526e04-e9fe-4834-f70c-c20d8f9a8396"
      },
      "outputs": [
        {
          "data": {
            "text/plain": [
              "(13444, 12061)"
            ]
          },
          "execution_count": 24,
          "metadata": {},
          "output_type": "execute_result"
        }
      ],
      "source": [
        "tf_mat.shape"
      ]
    },
    {
      "cell_type": "markdown",
      "metadata": {
        "papermill": {
          "duration": 0.033276,
          "end_time": "2021-01-24T19:16:28.604537",
          "exception": false,
          "start_time": "2021-01-24T19:16:28.571261",
          "status": "completed"
        },
        "tags": [],
        "id": "vdq8vj7_4rm8"
      },
      "source": [
        "# Computing Sim Scores "
      ]
    },
    {
      "cell_type": "code",
      "execution_count": null,
      "metadata": {
        "execution": {
          "iopub.execute_input": "2021-01-24T19:16:28.676737Z",
          "iopub.status.busy": "2021-01-24T19:16:28.675751Z",
          "iopub.status.idle": "2021-01-24T19:16:37.798737Z",
          "shell.execute_reply": "2021-01-24T19:16:37.799259Z"
        },
        "papermill": {
          "duration": 9.161021,
          "end_time": "2021-01-24T19:16:37.799426",
          "exception": false,
          "start_time": "2021-01-24T19:16:28.638405",
          "status": "completed"
        },
        "tags": [],
        "id": "6RbdRuh24rm8"
      },
      "outputs": [],
      "source": [
        "sig=sigmoid_kernel(tf_mat,tf_mat)"
      ]
    },
    {
      "cell_type": "code",
      "execution_count": null,
      "metadata": {
        "execution": {
          "iopub.execute_input": "2021-01-24T19:16:37.871984Z",
          "iopub.status.busy": "2021-01-24T19:16:37.870985Z",
          "iopub.status.idle": "2021-01-24T19:16:37.885372Z",
          "shell.execute_reply": "2021-01-24T19:16:37.884707Z"
        },
        "papermill": {
          "duration": 0.052003,
          "end_time": "2021-01-24T19:16:37.885489",
          "exception": false,
          "start_time": "2021-01-24T19:16:37.833486",
          "status": "completed"
        },
        "tags": [],
        "id": "2Gp48zfI4rm9",
        "outputId": "07349058-38c9-46be-fa2c-9b745fc3db20"
      },
      "outputs": [
        {
          "data": {
            "text/plain": [
              "book_title\n",
              "Harry Potter and the Order of the Phoenix                                    1\n",
              "J.R.R. Tolkien 4-Book Boxed Set: The Hobbit and The Lord of the Rings        6\n",
              "Romeo and Juliet                                                            10\n",
              "The Princess Bride                                                          13\n",
              "The Lightning Thief                                                         15\n",
              "                                                                         ...  \n",
              "A Certain Magical Index, Vol. 1                                          14693\n",
              "とある魔術の禁書目録 2                                                             14694\n",
              "The Shape of Voice 02                                                    14695\n",
              "The World God Only Knows 03 (The World God Only Knows, # 3)              14696\n",
              "Running the Books: The Adventures of an Accidental Prison Librarian      14697\n",
              "Length: 13444, dtype: int64"
            ]
          },
          "execution_count": 26,
          "metadata": {},
          "output_type": "execute_result"
        }
      ],
      "source": [
        "ind=black.index\n",
        "titles=black['book_title']\n",
        "idx=pd.Series(ind,index=titles).drop_duplicates()\n",
        "idx"
      ]
    },
    {
      "cell_type": "code",
      "execution_count": null,
      "metadata": {
        "execution": {
          "iopub.execute_input": "2021-01-24T19:16:37.964997Z",
          "iopub.status.busy": "2021-01-24T19:16:37.963963Z",
          "iopub.status.idle": "2021-01-24T19:16:37.967003Z",
          "shell.execute_reply": "2021-01-24T19:16:37.967519Z"
        },
        "papermill": {
          "duration": 0.04703,
          "end_time": "2021-01-24T19:16:37.967668",
          "exception": false,
          "start_time": "2021-01-24T19:16:37.920638",
          "status": "completed"
        },
        "tags": [],
        "id": "P-TuRgeN4rm9"
      },
      "outputs": [],
      "source": [
        "def get_recom(title,sig=sig):\n",
        "    idcs=idx[title]\n",
        "    sim_sc=list(enumerate(sig[idcs]))\n",
        "    sim_sc=sorted(sim_sc,key=lambda x: x[1],reverse=True)\n",
        "    sim_sc=sim_sc[1:21]\n",
        "    book_indices=[i[0] for i in sim_sc]\n",
        "    wss=[]\n",
        "    for i in book_indices:\n",
        "        wss.append(black['book_title'].iloc[i])\n",
        "        \n",
        "    return wss"
      ]
    },
    {
      "cell_type": "markdown",
      "metadata": {
        "papermill": {
          "duration": 0.034601,
          "end_time": "2021-01-24T19:16:38.036987",
          "exception": false,
          "start_time": "2021-01-24T19:16:38.002386",
          "status": "completed"
        },
        "tags": [],
        "id": "eNdGBum54rm9"
      },
      "source": [
        "## Getting Recommendations"
      ]
    },
    {
      "cell_type": "code",
      "execution_count": null,
      "metadata": {
        "execution": {
          "iopub.execute_input": "2021-01-24T19:16:38.132147Z",
          "iopub.status.busy": "2021-01-24T19:16:38.131358Z",
          "iopub.status.idle": "2021-01-24T19:16:38.134776Z",
          "shell.execute_reply": "2021-01-24T19:16:38.135383Z"
        },
        "papermill": {
          "duration": 0.063579,
          "end_time": "2021-01-24T19:16:38.135519",
          "exception": false,
          "start_time": "2021-01-24T19:16:38.071940",
          "status": "completed"
        },
        "tags": [],
        "id": "ECP6p1174rm9",
        "outputId": "660fec71-fa64-4acb-c1e1-d98e92acacd7"
      },
      "outputs": [
        {
          "data": {
            "text/plain": [
              "['The Marriage Plot',\n",
              " 'Only Time Will Tell',\n",
              " 'Dark Prince',\n",
              " 'The Drawing of the Dark',\n",
              " 'A Matter of Honor',\n",
              " 'The Memory Artists',\n",
              " 'The Fourth Estate',\n",
              " 'Sons of Fortune',\n",
              " 'The Eleventh Commandment',\n",
              " 'Unicorn and Dragon',\n",
              " 'The Lions of Al-Rassan',\n",
              " 'The Well of Shades',\n",
              " 'The Body at the Tower',\n",
              " 'Brethren',\n",
              " 'Wild Rover No More: Being the Last Recorded Account of the Life & Times of Jacky Faber',\n",
              " \"Resolution: A Novel of Captain Cook's Adventures of Discovery to Australia, New Zealand and Hawaii, Through the Eyes of George Forster, the Botanist on Board His Ship\",\n",
              " 'The Wild Hunt',\n",
              " 'Territory',\n",
              " 'Dolce sacrificio',\n",
              " 'Chesapeake']"
            ]
          },
          "execution_count": 28,
          "metadata": {},
          "output_type": "execute_result"
        }
      ],
      "source": [
        "get_recom(black['book_title'].iloc[8])"
      ]
    },
    {
      "cell_type": "code",
      "execution_count": null,
      "metadata": {
        "execution": {
          "iopub.execute_input": "2021-01-24T19:16:38.210044Z",
          "iopub.status.busy": "2021-01-24T19:16:38.209341Z",
          "iopub.status.idle": "2021-01-24T19:16:38.215329Z",
          "shell.execute_reply": "2021-01-24T19:16:38.214738Z"
        },
        "papermill": {
          "duration": 0.044325,
          "end_time": "2021-01-24T19:16:38.215447",
          "exception": false,
          "start_time": "2021-01-24T19:16:38.171122",
          "status": "completed"
        },
        "tags": [],
        "id": "OqsTO9dz4rm-",
        "outputId": "e99bc4b8-67ce-4638-f816-f68703f6820d"
      },
      "outputs": [
        {
          "data": {
            "text/plain": [
              "'Romeo and Juliet'"
            ]
          },
          "execution_count": 29,
          "metadata": {},
          "output_type": "execute_result"
        }
      ],
      "source": [
        "black['book_title'].iloc[2]"
      ]
    },
    {
      "cell_type": "code",
      "execution_count": null,
      "metadata": {
        "execution": {
          "iopub.execute_input": "2021-01-24T19:16:38.293168Z",
          "iopub.status.busy": "2021-01-24T19:16:38.292245Z",
          "iopub.status.idle": "2021-01-24T19:16:38.296303Z",
          "shell.execute_reply": "2021-01-24T19:16:38.296765Z"
        },
        "papermill": {
          "duration": 0.045183,
          "end_time": "2021-01-24T19:16:38.296926",
          "exception": false,
          "start_time": "2021-01-24T19:16:38.251743",
          "status": "completed"
        },
        "tags": [],
        "id": "dqqpFiM74rm-",
        "outputId": "7c3dffbf-1797-4ca3-a7ef-447441e91938"
      },
      "outputs": [
        {
          "data": {
            "text/plain": [
              "'Educating Rita'"
            ]
          },
          "execution_count": 30,
          "metadata": {},
          "output_type": "execute_result"
        }
      ],
      "source": [
        "black['book_title'][6948]"
      ]
    }
  ],
  "metadata": {
    "kernelspec": {
      "display_name": "Python 3",
      "language": "python",
      "name": "python3"
    },
    "language_info": {
      "codemirror_mode": {
        "name": "ipython",
        "version": 3
      },
      "file_extension": ".py",
      "mimetype": "text/x-python",
      "name": "python",
      "nbconvert_exporter": "python",
      "pygments_lexer": "ipython3",
      "version": "3.7.6"
    },
    "papermill": {
      "duration": 22.791076,
      "end_time": "2021-01-24T19:16:38.659080",
      "environment_variables": {},
      "exception": null,
      "input_path": "__notebook__.ipynb",
      "output_path": "__notebook__.ipynb",
      "parameters": {},
      "start_time": "2021-01-24T19:16:15.868004",
      "version": "2.1.0"
    },
    "colab": {
      "provenance": []
    }
  },
  "nbformat": 4,
  "nbformat_minor": 0
}